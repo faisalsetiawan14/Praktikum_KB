{
 "cells": [
  {
   "cell_type": "markdown",
   "id": "a19fe3bf",
   "metadata": {},
   "source": [
    "<h4> POSTTEST 7 KB </h4>\n",
    "<h4> Muhammad Faisal Setiawan </h4>"
   ]
  },
  {
   "cell_type": "markdown",
   "id": "0013e8c0",
   "metadata": {},
   "source": [
    "<h2> input library yang digunakan pada posttest kali ini </h2>"
   ]
  },
  {
   "cell_type": "code",
   "execution_count": 34,
   "id": "0ff0f2ff",
   "metadata": {},
   "outputs": [],
   "source": [
    "import tensorflow as tf\n",
    "import numpy as np"
   ]
  },
  {
   "cell_type": "markdown",
   "id": "60a09ffa",
   "metadata": {},
   "source": [
    "<h2> membuat random tensor shape 5.5 </h2>"
   ]
  },
  {
   "cell_type": "code",
   "execution_count": 35,
   "id": "ce8e76a8",
   "metadata": {},
   "outputs": [
    {
     "data": {
      "text/plain": [
       "array([[ 0.00534202, -1.0460438 , -1.6427648 , -0.3495337 ,  0.951451  ],\n",
       "       [ 0.8105827 , -0.761741  ,  1.0136645 , -1.8470215 ,  0.20171778],\n",
       "       [ 1.2173525 , -1.7574261 ,  1.765832  ,  1.14004   ,  0.8317814 ],\n",
       "       [-1.9974602 ,  0.25176758,  1.0689832 ,  0.30159846,  0.2641973 ],\n",
       "       [ 0.02316601,  0.7222838 ,  0.3744623 , -0.09558094,  1.4185706 ]],\n",
       "      dtype=float32)"
      ]
     },
     "execution_count": 35,
     "metadata": {},
     "output_type": "execute_result"
    }
   ],
   "source": [
    "random_tensor = tf.random.normal([5, 5], mean=0, stddev=1, seed=1).numpy()\n",
    "random_tensor"
   ]
  },
  {
   "cell_type": "markdown",
   "id": "2b527b10",
   "metadata": {},
   "source": [
    "<h2> membuat variable prima tensor shape 5.5 </h2>"
   ]
  },
  {
   "cell_type": "code",
   "execution_count": 36,
   "id": "99e4feaa",
   "metadata": {},
   "outputs": [
    {
     "data": {
      "text/plain": [
       "<tf.Tensor: shape=(5, 5), dtype=float32, numpy=\n",
       "array([[  2.,   3.,   5.,   7.,  11.],\n",
       "       [ 13.,  17.,  19.,  23.,  29.],\n",
       "       [ 31.,  37.,  41.,  43.,  47.],\n",
       "       [ 53.,  59.,  61.,  71.,  73.],\n",
       "       [ 79.,  83.,  89.,  97., 101.]], dtype=float32)>"
      ]
     },
     "execution_count": 36,
     "metadata": {},
     "output_type": "execute_result"
    }
   ],
   "source": [
    "prima_tensor = tf.constant([2, 3, 5, 7, 11, 13, 17, 19, 23, 29, 31, 37, 41, 43, 47, 53, 59, 61, 71, 73, 79, 83, 89, 97, 101], shape=[5, 5], dtype=tf.float32)\n",
    "prima_tensor"
   ]
  },
  {
   "cell_type": "markdown",
   "id": "a8a97b08",
   "metadata": {},
   "source": [
    "<h2> Aritmatika pertambahan (add) </h2>"
   ]
  },
  {
   "cell_type": "code",
   "execution_count": 37,
   "id": "6e27d2e5",
   "metadata": {},
   "outputs": [
    {
     "data": {
      "text/plain": [
       "<tf.Tensor: shape=(5, 5), dtype=float32, numpy=\n",
       "array([[  2.005342 ,   1.9539562,   3.3572352,   6.6504664,  11.951451 ],\n",
       "       [ 13.810583 ,  16.238258 ,  20.013664 ,  21.152979 ,  29.201717 ],\n",
       "       [ 32.217354 ,  35.242573 ,  42.76583  ,  44.14004  ,  47.83178  ],\n",
       "       [ 51.00254  ,  59.251766 ,  62.068985 ,  71.3016   ,  73.2642   ],\n",
       "       [ 79.02316  ,  83.72228  ,  89.374466 ,  96.90442  , 102.41857  ]],\n",
       "      dtype=float32)>"
      ]
     },
     "execution_count": 37,
     "metadata": {},
     "output_type": "execute_result"
    }
   ],
   "source": [
    "tf.add(random_tensor, prima_tensor)"
   ]
  },
  {
   "cell_type": "markdown",
   "id": "e19434ac",
   "metadata": {},
   "source": [
    "<h2> Aritmatika pengurangan (subtract) </h2>"
   ]
  },
  {
   "cell_type": "code",
   "execution_count": 38,
   "id": "8ac3c579",
   "metadata": {},
   "outputs": [
    {
     "data": {
      "text/plain": [
       "<tf.Tensor: shape=(5, 5), dtype=float32, numpy=\n",
       "array([[ -1.994658 ,  -4.046044 ,  -6.642765 ,  -7.3495336, -10.048549 ],\n",
       "       [-12.189417 , -17.761742 , -17.986336 , -24.847021 , -28.798283 ],\n",
       "       [-29.782648 , -38.757427 , -39.23417  , -41.85996  , -46.16822  ],\n",
       "       [-54.99746  , -58.748234 , -59.931015 , -70.6984   , -72.7358   ],\n",
       "       [-78.97684  , -82.27772  , -88.625534 , -97.09558  , -99.58143  ]],\n",
       "      dtype=float32)>"
      ]
     },
     "execution_count": 38,
     "metadata": {},
     "output_type": "execute_result"
    }
   ],
   "source": [
    "tf.subtract(random_tensor, prima_tensor)"
   ]
  },
  {
   "cell_type": "markdown",
   "id": "6600b64c",
   "metadata": {},
   "source": [
    "<h2> Aritmatika perkalian (multiply) </h2>"
   ]
  },
  {
   "cell_type": "code",
   "execution_count": 39,
   "id": "b637e87a",
   "metadata": {},
   "outputs": [
    {
     "data": {
      "text/plain": [
       "<tf.Tensor: shape=(5, 5), dtype=float32, numpy=\n",
       "array([[ 1.06840469e-02, -3.13813114e+00, -8.21382427e+00,\n",
       "        -2.44673586e+00,  1.04659615e+01],\n",
       "       [ 1.05375748e+01, -1.29495964e+01,  1.92596245e+01,\n",
       "        -4.24814949e+01,  5.84981537e+00],\n",
       "       [ 3.77379265e+01, -6.50247650e+01,  7.23991089e+01,\n",
       "         4.90217209e+01,  3.90937271e+01],\n",
       "       [-1.05865395e+02,  1.48542871e+01,  6.52079773e+01,\n",
       "         2.14134903e+01,  1.92864017e+01],\n",
       "       [ 1.83011508e+00,  5.99495544e+01,  3.33271446e+01,\n",
       "        -9.27135181e+00,  1.43275635e+02]], dtype=float32)>"
      ]
     },
     "execution_count": 39,
     "metadata": {},
     "output_type": "execute_result"
    }
   ],
   "source": [
    "tf.multiply(random_tensor, prima_tensor)"
   ]
  },
  {
   "cell_type": "markdown",
   "id": "6b0a619e",
   "metadata": {},
   "source": [
    "<h2> Aritmatika pembagian (divide) </h2>"
   ]
  },
  {
   "cell_type": "code",
   "execution_count": 40,
   "id": "ea132db6",
   "metadata": {},
   "outputs": [
    {
     "data": {
      "text/plain": [
       "<tf.Tensor: shape=(5, 5), dtype=float32, numpy=\n",
       "array([[ 2.6710117e-03, -3.4868124e-01, -3.2855296e-01, -4.9933385e-02,\n",
       "         8.6495548e-02],\n",
       "       [ 6.2352516e-02, -4.4808295e-02,  5.3350762e-02, -8.0305278e-02,\n",
       "         6.9557857e-03],\n",
       "       [ 3.9269436e-02, -4.7498003e-02,  4.3069072e-02,  2.6512560e-02,\n",
       "         1.7697476e-02],\n",
       "       [-3.7687927e-02,  4.2672469e-03,  1.7524315e-02,  4.2478656e-03,\n",
       "         3.6191409e-03],\n",
       "       [ 2.9324068e-04,  8.7022139e-03,  4.2074416e-03, -9.8537060e-04,\n",
       "         1.4045253e-02]], dtype=float32)>"
      ]
     },
     "execution_count": 40,
     "metadata": {},
     "output_type": "execute_result"
    }
   ],
   "source": [
    "tf.divide (random_tensor, prima_tensor)"
   ]
  },
  {
   "cell_type": "markdown",
   "id": "10b3b4ac",
   "metadata": {},
   "source": [
    "<h2> Aritmatika logaritma (math.log) </h2>"
   ]
  },
  {
   "cell_type": "code",
   "execution_count": 41,
   "id": "31b3e5e5",
   "metadata": {},
   "outputs": [
    {
     "data": {
      "text/plain": [
       "<tf.Tensor: shape=(5, 5), dtype=float32, numpy=\n",
       "array([[-5.232151  ,         nan,         nan,         nan, -0.04976709],\n",
       "       [-0.21000187,         nan,  0.01357197,         nan, -1.6008856 ],\n",
       "       [ 0.19667843,         nan,  0.56862193,  0.13106337, -0.18418561],\n",
       "       [        nan, -1.379249  ,  0.06670791, -1.1986587 , -1.3310591 ],\n",
       "       [-3.765069  , -0.32533717, -0.98226416,         nan,  0.34964976]],\n",
       "      dtype=float32)>"
      ]
     },
     "execution_count": 41,
     "metadata": {},
     "output_type": "execute_result"
    }
   ],
   "source": [
    "tf.math.log (random_tensor, prima_tensor)"
   ]
  },
  {
   "cell_type": "markdown",
   "id": "80fad1fa",
   "metadata": {},
   "source": [
    "<h2> Aritmatika pangkat (pow) </h2>"
   ]
  },
  {
   "cell_type": "code",
   "execution_count": 42,
   "id": "d9bc5692",
   "metadata": {},
   "outputs": [
    {
     "data": {
      "text/plain": [
       "<tf.Tensor: shape=(5, 5), dtype=float32, numpy=\n",
       "array([[ 2.8537215e-05, -1.1445889e+00, -1.1964015e+01, -6.3741673e-04,\n",
       "         5.7842988e-01],\n",
       "       [ 6.5217666e-02, -9.7886873e-03,  1.2941672e+00, -1.3454100e+06,\n",
       "         6.8798849e-21],\n",
       "       [ 4.4453607e+02, -1.1493494e+09,  1.3332886e+10,  2.8026218e+02,\n",
       "         1.7395316e-04],\n",
       "       [-8.4205733e+15,  4.5602440e-36,  5.8509125e+01,  1.0951345e-37,\n",
       "         0.0000000e+00],\n",
       "       [ 0.0000000e+00,  1.8739266e-12,  0.0000000e+00, -0.0000000e+00,\n",
       "         2.1724390e+15]], dtype=float32)>"
      ]
     },
     "execution_count": 42,
     "metadata": {},
     "output_type": "execute_result"
    }
   ],
   "source": [
    "tf.pow(random_tensor, prima_tensor)"
   ]
  },
  {
   "cell_type": "markdown",
   "id": "f8e21f72",
   "metadata": {},
   "source": [
    "<h2> Nilai Maksimal random tensor </h2>"
   ]
  },
  {
   "cell_type": "code",
   "execution_count": 43,
   "id": "127eeafc",
   "metadata": {},
   "outputs": [
    {
     "data": {
      "text/plain": [
       "<tf.Tensor: shape=(5,), dtype=int64, numpy=array([2, 4, 2, 2, 4], dtype=int64)>"
      ]
     },
     "execution_count": 43,
     "metadata": {},
     "output_type": "execute_result"
    }
   ],
   "source": [
    "tf.argmax(random_tensor, axis=0)"
   ]
  },
  {
   "cell_type": "markdown",
   "id": "cf632318",
   "metadata": {},
   "source": [
    "<h2> Nilai Minimal random tensor </h2>"
   ]
  },
  {
   "cell_type": "code",
   "execution_count": 44,
   "id": "f5c24509",
   "metadata": {},
   "outputs": [
    {
     "data": {
      "text/plain": [
       "<tf.Tensor: shape=(5,), dtype=int64, numpy=array([3, 2, 0, 1, 1], dtype=int64)>"
      ]
     },
     "execution_count": 44,
     "metadata": {},
     "output_type": "execute_result"
    }
   ],
   "source": [
    "tf.argmin(random_tensor, axis=0)"
   ]
  },
  {
   "cell_type": "markdown",
   "id": "dba1a097",
   "metadata": {},
   "source": [
    "<h2> Penggabungan variable </h2>"
   ]
  },
  {
   "cell_type": "code",
   "execution_count": 45,
   "id": "b05de79e",
   "metadata": {},
   "outputs": [
    {
     "name": "stdout",
     "output_type": "stream",
     "text": [
      "size original data: (5, 5) (5, 5)\n",
      "size concatenated data: (10, 5)\n"
     ]
    }
   ],
   "source": [
    "random_tensor = tf.random.normal([5,5], mean=0, stddev=1, seed=1)\n",
    "prima_tensor = tf.constant([2, 3, 5, 7, 11, 13, 17, 19, 23, 29, 31, 37, 41, 43, 47, 53, 59, 61, 71, 73, 79, 83, 89, 97, 101], shape=[5, 5], dtype=tf.float32)\n",
    "print(\"size original data:\",random_tensor.shape,prima_tensor.shape)\n",
    "concated_tensor = tf.concat([random_tensor,prima_tensor],axis=0)\n",
    "print(\"size concatenated data:\",concated_tensor.shape)"
   ]
  },
  {
   "cell_type": "markdown",
   "id": "d23ad4ec",
   "metadata": {},
   "source": [
    "<h2> Desscending </h2>"
   ]
  },
  {
   "cell_type": "code",
   "execution_count": 46,
   "id": "0252841c",
   "metadata": {},
   "outputs": [
    {
     "name": "stdout",
     "output_type": "stream",
     "text": [
      "existing prime tensor data: [[  2.   3.   5.   7.  11.]\n",
      " [ 13.  17.  19.  23.  29.]\n",
      " [ 31.  37.  41.  43.  47.]\n",
      " [ 53.  59.  61.  71.  73.]\n",
      " [ 79.  83.  89.  97. 101.]]\n",
      "random tensor sorted by descending order: [[ 2.1930096   0.70548636  0.59973025  0.02631566 -0.15317097]\n",
      " [ 0.10885387 -0.08477694 -0.30898607 -0.41602153 -0.87380695]\n",
      " [ 0.3359162  -0.5440277  -0.6701393  -1.1809127  -1.4043791 ]\n",
      " [ 1.2158072   1.168095    0.6584982  -0.6827249  -1.1672325 ]\n",
      " [ 0.20425868  0.07945652  0.07206825 -0.32767358 -0.4303542 ]]\n",
      "prime tensor sorted by descending order: [[ 11.   7.   5.   3.   2.]\n",
      " [ 29.  23.  19.  17.  13.]\n",
      " [ 47.  43.  41.  37.  31.]\n",
      " [ 73.  71.  61.  59.  53.]\n",
      " [101.  97.  89.  83.  79.]]\n"
     ]
    }
   ],
   "source": [
    "print(\"existing prime tensor data:\",prima_tensor.numpy())\n",
    "sorted_random = tf.sort(random_tensor, direction = \"DESCENDING\")\n",
    "print(\"random tensor sorted by descending order:\",sorted_random.numpy())\n",
    "sorted_prime = tf.sort(prima_tensor, direction = \"DESCENDING\")\n",
    "print(\"prime tensor sorted by descending order:\",sorted_prime.numpy())"
   ]
  }
 ],
 "metadata": {
  "kernelspec": {
   "display_name": "Python 3 (ipykernel)",
   "language": "python",
   "name": "python3"
  },
  "language_info": {
   "codemirror_mode": {
    "name": "ipython",
    "version": 3
   },
   "file_extension": ".py",
   "mimetype": "text/x-python",
   "name": "python",
   "nbconvert_exporter": "python",
   "pygments_lexer": "ipython3",
   "version": "3.10.7"
  }
 },
 "nbformat": 4,
 "nbformat_minor": 5
}

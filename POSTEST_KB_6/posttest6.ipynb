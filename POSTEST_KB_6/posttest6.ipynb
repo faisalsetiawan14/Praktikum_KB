{
 "cells": [
  {
   "cell_type": "markdown",
   "id": "0d4683e0",
   "metadata": {},
   "source": [
    "<h5> Muhammad Faisal Setiawan </h5>\n",
    "<h5> 2009106060 </h5>\n",
    "\n",
    "<h2> Masukan library yang di perlukan pada posstest kali ini, berikut : </h2>"
   ]
  },
  {
   "cell_type": "code",
   "execution_count": 2,
   "id": "178cff6f",
   "metadata": {},
   "outputs": [],
   "source": [
    "import matplotlib.pyplot as plt\n",
    "import seaborn as sns\n",
    "import pandas as pd\n",
    "import numpy as np\n",
    "from sklearn.impute import SimpleImputer\n",
    "from sklearn.cluster import KMeans"
   ]
  },
  {
   "cell_type": "markdown",
   "id": "9740fba7",
   "metadata": {},
   "source": [
    "<h3> Melihat data csv yang akan digunakan </h3>"
   ]
  },
  {
   "cell_type": "code",
   "execution_count": 3,
   "id": "19e8af88",
   "metadata": {},
   "outputs": [
    {
     "data": {
      "text/html": [
       "<div>\n",
       "<style scoped>\n",
       "    .dataframe tbody tr th:only-of-type {\n",
       "        vertical-align: middle;\n",
       "    }\n",
       "\n",
       "    .dataframe tbody tr th {\n",
       "        vertical-align: top;\n",
       "    }\n",
       "\n",
       "    .dataframe thead th {\n",
       "        text-align: right;\n",
       "    }\n",
       "</style>\n",
       "<table border=\"1\" class=\"dataframe\">\n",
       "  <thead>\n",
       "    <tr style=\"text-align: right;\">\n",
       "      <th></th>\n",
       "      <th>manufacturer_name</th>\n",
       "      <th>model_name</th>\n",
       "      <th>transmission</th>\n",
       "      <th>color</th>\n",
       "      <th>odometer_value</th>\n",
       "      <th>year_produced</th>\n",
       "      <th>engine_fuel</th>\n",
       "      <th>engine_has_gas</th>\n",
       "      <th>engine_type</th>\n",
       "      <th>engine_capacity</th>\n",
       "      <th>...</th>\n",
       "      <th>feature_1</th>\n",
       "      <th>feature_2</th>\n",
       "      <th>feature_3</th>\n",
       "      <th>feature_4</th>\n",
       "      <th>feature_5</th>\n",
       "      <th>feature_6</th>\n",
       "      <th>feature_7</th>\n",
       "      <th>feature_8</th>\n",
       "      <th>feature_9</th>\n",
       "      <th>duration_listed</th>\n",
       "    </tr>\n",
       "  </thead>\n",
       "  <tbody>\n",
       "    <tr>\n",
       "      <th>0</th>\n",
       "      <td>Subaru</td>\n",
       "      <td>Outback</td>\n",
       "      <td>automatic</td>\n",
       "      <td>silver</td>\n",
       "      <td>190000</td>\n",
       "      <td>2010</td>\n",
       "      <td>gasoline</td>\n",
       "      <td>False</td>\n",
       "      <td>gasoline</td>\n",
       "      <td>2.5</td>\n",
       "      <td>...</td>\n",
       "      <td>True</td>\n",
       "      <td>True</td>\n",
       "      <td>True</td>\n",
       "      <td>False</td>\n",
       "      <td>True</td>\n",
       "      <td>False</td>\n",
       "      <td>True</td>\n",
       "      <td>True</td>\n",
       "      <td>True</td>\n",
       "      <td>16</td>\n",
       "    </tr>\n",
       "    <tr>\n",
       "      <th>1</th>\n",
       "      <td>Subaru</td>\n",
       "      <td>Outback</td>\n",
       "      <td>automatic</td>\n",
       "      <td>blue</td>\n",
       "      <td>290000</td>\n",
       "      <td>2002</td>\n",
       "      <td>gasoline</td>\n",
       "      <td>False</td>\n",
       "      <td>gasoline</td>\n",
       "      <td>3.0</td>\n",
       "      <td>...</td>\n",
       "      <td>True</td>\n",
       "      <td>False</td>\n",
       "      <td>False</td>\n",
       "      <td>True</td>\n",
       "      <td>True</td>\n",
       "      <td>False</td>\n",
       "      <td>False</td>\n",
       "      <td>False</td>\n",
       "      <td>True</td>\n",
       "      <td>83</td>\n",
       "    </tr>\n",
       "    <tr>\n",
       "      <th>2</th>\n",
       "      <td>Subaru</td>\n",
       "      <td>Forester</td>\n",
       "      <td>automatic</td>\n",
       "      <td>red</td>\n",
       "      <td>402000</td>\n",
       "      <td>2001</td>\n",
       "      <td>gasoline</td>\n",
       "      <td>False</td>\n",
       "      <td>gasoline</td>\n",
       "      <td>2.5</td>\n",
       "      <td>...</td>\n",
       "      <td>True</td>\n",
       "      <td>False</td>\n",
       "      <td>False</td>\n",
       "      <td>False</td>\n",
       "      <td>False</td>\n",
       "      <td>False</td>\n",
       "      <td>False</td>\n",
       "      <td>True</td>\n",
       "      <td>True</td>\n",
       "      <td>151</td>\n",
       "    </tr>\n",
       "    <tr>\n",
       "      <th>3</th>\n",
       "      <td>Subaru</td>\n",
       "      <td>Impreza</td>\n",
       "      <td>mechanical</td>\n",
       "      <td>blue</td>\n",
       "      <td>10000</td>\n",
       "      <td>1999</td>\n",
       "      <td>gasoline</td>\n",
       "      <td>False</td>\n",
       "      <td>gasoline</td>\n",
       "      <td>3.0</td>\n",
       "      <td>...</td>\n",
       "      <td>False</td>\n",
       "      <td>False</td>\n",
       "      <td>False</td>\n",
       "      <td>False</td>\n",
       "      <td>False</td>\n",
       "      <td>False</td>\n",
       "      <td>False</td>\n",
       "      <td>False</td>\n",
       "      <td>False</td>\n",
       "      <td>86</td>\n",
       "    </tr>\n",
       "    <tr>\n",
       "      <th>4</th>\n",
       "      <td>Subaru</td>\n",
       "      <td>Legacy</td>\n",
       "      <td>automatic</td>\n",
       "      <td>black</td>\n",
       "      <td>280000</td>\n",
       "      <td>2001</td>\n",
       "      <td>gasoline</td>\n",
       "      <td>False</td>\n",
       "      <td>gasoline</td>\n",
       "      <td>2.5</td>\n",
       "      <td>...</td>\n",
       "      <td>True</td>\n",
       "      <td>False</td>\n",
       "      <td>True</td>\n",
       "      <td>True</td>\n",
       "      <td>False</td>\n",
       "      <td>False</td>\n",
       "      <td>False</td>\n",
       "      <td>False</td>\n",
       "      <td>True</td>\n",
       "      <td>7</td>\n",
       "    </tr>\n",
       "  </tbody>\n",
       "</table>\n",
       "<p>5 rows × 30 columns</p>\n",
       "</div>"
      ],
      "text/plain": [
       "  manufacturer_name model_name transmission   color  odometer_value  \\\n",
       "0            Subaru    Outback    automatic  silver          190000   \n",
       "1            Subaru    Outback    automatic    blue          290000   \n",
       "2            Subaru   Forester    automatic     red          402000   \n",
       "3            Subaru    Impreza   mechanical    blue           10000   \n",
       "4            Subaru     Legacy    automatic   black          280000   \n",
       "\n",
       "   year_produced engine_fuel  engine_has_gas engine_type  engine_capacity  \\\n",
       "0           2010    gasoline           False    gasoline              2.5   \n",
       "1           2002    gasoline           False    gasoline              3.0   \n",
       "2           2001    gasoline           False    gasoline              2.5   \n",
       "3           1999    gasoline           False    gasoline              3.0   \n",
       "4           2001    gasoline           False    gasoline              2.5   \n",
       "\n",
       "   ... feature_1  feature_2 feature_3 feature_4  feature_5  feature_6  \\\n",
       "0  ...      True       True      True     False       True      False   \n",
       "1  ...      True      False     False      True       True      False   \n",
       "2  ...      True      False     False     False      False      False   \n",
       "3  ...     False      False     False     False      False      False   \n",
       "4  ...      True      False      True      True      False      False   \n",
       "\n",
       "  feature_7  feature_8  feature_9  duration_listed  \n",
       "0      True       True       True               16  \n",
       "1     False      False       True               83  \n",
       "2     False       True       True              151  \n",
       "3     False      False      False               86  \n",
       "4     False      False       True                7  \n",
       "\n",
       "[5 rows x 30 columns]"
      ]
     },
     "execution_count": 3,
     "metadata": {},
     "output_type": "execute_result"
    }
   ],
   "source": [
    "df = pd.read_csv('cars.csv')\n",
    "df.head()"
   ]
  },
  {
   "cell_type": "markdown",
   "id": "f8e887c6",
   "metadata": {},
   "source": [
    "<h3> melihat tipe data serta isi record </h3>"
   ]
  },
  {
   "cell_type": "code",
   "execution_count": 4,
   "id": "9629044f",
   "metadata": {},
   "outputs": [
    {
     "name": "stdout",
     "output_type": "stream",
     "text": [
      "<class 'pandas.core.frame.DataFrame'>\n",
      "RangeIndex: 38531 entries, 0 to 38530\n",
      "Data columns (total 30 columns):\n",
      " #   Column             Non-Null Count  Dtype  \n",
      "---  ------             --------------  -----  \n",
      " 0   manufacturer_name  38531 non-null  object \n",
      " 1   model_name         38531 non-null  object \n",
      " 2   transmission       38531 non-null  object \n",
      " 3   color              38531 non-null  object \n",
      " 4   odometer_value     38531 non-null  int64  \n",
      " 5   year_produced      38531 non-null  int64  \n",
      " 6   engine_fuel        38531 non-null  object \n",
      " 7   engine_has_gas     38531 non-null  bool   \n",
      " 8   engine_type        38531 non-null  object \n",
      " 9   engine_capacity    38521 non-null  float64\n",
      " 10  body_type          38531 non-null  object \n",
      " 11  has_warranty       38531 non-null  bool   \n",
      " 12  state              38531 non-null  object \n",
      " 13  drivetrain         38531 non-null  object \n",
      " 14  price_usd          38531 non-null  float64\n",
      " 15  is_exchangeable    38531 non-null  bool   \n",
      " 16  location_region    38531 non-null  object \n",
      " 17  number_of_photos   38531 non-null  int64  \n",
      " 18  up_counter         38531 non-null  int64  \n",
      " 19  feature_0          38531 non-null  bool   \n",
      " 20  feature_1          38531 non-null  bool   \n",
      " 21  feature_2          38531 non-null  bool   \n",
      " 22  feature_3          38531 non-null  bool   \n",
      " 23  feature_4          38531 non-null  bool   \n",
      " 24  feature_5          38531 non-null  bool   \n",
      " 25  feature_6          38531 non-null  bool   \n",
      " 26  feature_7          38531 non-null  bool   \n",
      " 27  feature_8          38531 non-null  bool   \n",
      " 28  feature_9          38531 non-null  bool   \n",
      " 29  duration_listed    38531 non-null  int64  \n",
      "dtypes: bool(13), float64(2), int64(5), object(10)\n",
      "memory usage: 5.5+ MB\n"
     ]
    }
   ],
   "source": [
    "df.info()"
   ]
  },
  {
   "cell_type": "code",
   "execution_count": 5,
   "id": "181e2636",
   "metadata": {},
   "outputs": [
    {
     "data": {
      "text/plain": [
       "manufacturer_name     0\n",
       "model_name            0\n",
       "transmission          0\n",
       "color                 0\n",
       "odometer_value        0\n",
       "year_produced         0\n",
       "engine_fuel           0\n",
       "engine_has_gas        0\n",
       "engine_type           0\n",
       "engine_capacity      10\n",
       "body_type             0\n",
       "has_warranty          0\n",
       "state                 0\n",
       "drivetrain            0\n",
       "price_usd             0\n",
       "is_exchangeable       0\n",
       "location_region       0\n",
       "number_of_photos      0\n",
       "up_counter            0\n",
       "feature_0             0\n",
       "feature_1             0\n",
       "feature_2             0\n",
       "feature_3             0\n",
       "feature_4             0\n",
       "feature_5             0\n",
       "feature_6             0\n",
       "feature_7             0\n",
       "feature_8             0\n",
       "feature_9             0\n",
       "duration_listed       0\n",
       "dtype: int64"
      ]
     },
     "execution_count": 5,
     "metadata": {},
     "output_type": "execute_result"
    }
   ],
   "source": [
    "df.isna().sum()"
   ]
  },
  {
   "cell_type": "code",
   "execution_count": 6,
   "id": "d65c8c52",
   "metadata": {},
   "outputs": [
    {
     "data": {
      "text/html": [
       "<div>\n",
       "<style scoped>\n",
       "    .dataframe tbody tr th:only-of-type {\n",
       "        vertical-align: middle;\n",
       "    }\n",
       "\n",
       "    .dataframe tbody tr th {\n",
       "        vertical-align: top;\n",
       "    }\n",
       "\n",
       "    .dataframe thead th {\n",
       "        text-align: right;\n",
       "    }\n",
       "</style>\n",
       "<table border=\"1\" class=\"dataframe\">\n",
       "  <thead>\n",
       "    <tr style=\"text-align: right;\">\n",
       "      <th></th>\n",
       "      <th>fuelType</th>\n",
       "      <th>rating</th>\n",
       "      <th>renterTripsTaken</th>\n",
       "      <th>reviewCount</th>\n",
       "      <th>location.city</th>\n",
       "      <th>location.country</th>\n",
       "      <th>location.latitude</th>\n",
       "      <th>location.longitude</th>\n",
       "      <th>location.state</th>\n",
       "      <th>owner.id</th>\n",
       "      <th>rate.daily</th>\n",
       "      <th>vehicle.make</th>\n",
       "      <th>vehicle.model</th>\n",
       "      <th>vehicle.type</th>\n",
       "      <th>vehicle.year</th>\n",
       "    </tr>\n",
       "  </thead>\n",
       "  <tbody>\n",
       "    <tr>\n",
       "      <th>0</th>\n",
       "      <td>ELECTRIC</td>\n",
       "      <td>5.00</td>\n",
       "      <td>13</td>\n",
       "      <td>12</td>\n",
       "      <td>Seattle</td>\n",
       "      <td>US</td>\n",
       "      <td>47.449107</td>\n",
       "      <td>-122.308841</td>\n",
       "      <td>WA</td>\n",
       "      <td>12847615</td>\n",
       "      <td>135</td>\n",
       "      <td>Tesla</td>\n",
       "      <td>Model X</td>\n",
       "      <td>suv</td>\n",
       "      <td>2019</td>\n",
       "    </tr>\n",
       "    <tr>\n",
       "      <th>1</th>\n",
       "      <td>ELECTRIC</td>\n",
       "      <td>5.00</td>\n",
       "      <td>2</td>\n",
       "      <td>1</td>\n",
       "      <td>Tijeras</td>\n",
       "      <td>US</td>\n",
       "      <td>35.111060</td>\n",
       "      <td>-106.276551</td>\n",
       "      <td>NM</td>\n",
       "      <td>15621242</td>\n",
       "      <td>190</td>\n",
       "      <td>Tesla</td>\n",
       "      <td>Model X</td>\n",
       "      <td>suv</td>\n",
       "      <td>2018</td>\n",
       "    </tr>\n",
       "    <tr>\n",
       "      <th>2</th>\n",
       "      <td>HYBRID</td>\n",
       "      <td>4.92</td>\n",
       "      <td>28</td>\n",
       "      <td>24</td>\n",
       "      <td>Albuquerque</td>\n",
       "      <td>US</td>\n",
       "      <td>35.127163</td>\n",
       "      <td>-106.566681</td>\n",
       "      <td>NM</td>\n",
       "      <td>10199256</td>\n",
       "      <td>35</td>\n",
       "      <td>Toyota</td>\n",
       "      <td>Prius</td>\n",
       "      <td>car</td>\n",
       "      <td>2012</td>\n",
       "    </tr>\n",
       "    <tr>\n",
       "      <th>3</th>\n",
       "      <td>GASOLINE</td>\n",
       "      <td>5.00</td>\n",
       "      <td>21</td>\n",
       "      <td>20</td>\n",
       "      <td>Albuquerque</td>\n",
       "      <td>US</td>\n",
       "      <td>35.149726</td>\n",
       "      <td>-106.711425</td>\n",
       "      <td>NM</td>\n",
       "      <td>9365496</td>\n",
       "      <td>75</td>\n",
       "      <td>Ford</td>\n",
       "      <td>Mustang</td>\n",
       "      <td>car</td>\n",
       "      <td>2018</td>\n",
       "    </tr>\n",
       "    <tr>\n",
       "      <th>4</th>\n",
       "      <td>GASOLINE</td>\n",
       "      <td>5.00</td>\n",
       "      <td>3</td>\n",
       "      <td>1</td>\n",
       "      <td>Albuquerque</td>\n",
       "      <td>US</td>\n",
       "      <td>35.208659</td>\n",
       "      <td>-106.601008</td>\n",
       "      <td>NM</td>\n",
       "      <td>3553565</td>\n",
       "      <td>47</td>\n",
       "      <td>Chrysler</td>\n",
       "      <td>Sebring</td>\n",
       "      <td>car</td>\n",
       "      <td>2010</td>\n",
       "    </tr>\n",
       "  </tbody>\n",
       "</table>\n",
       "</div>"
      ],
      "text/plain": [
       "   fuelType  rating  renterTripsTaken  reviewCount location.city  \\\n",
       "0  ELECTRIC    5.00                13           12       Seattle   \n",
       "1  ELECTRIC    5.00                 2            1       Tijeras   \n",
       "2    HYBRID    4.92                28           24   Albuquerque   \n",
       "3  GASOLINE    5.00                21           20   Albuquerque   \n",
       "4  GASOLINE    5.00                 3            1   Albuquerque   \n",
       "\n",
       "  location.country  location.latitude  location.longitude location.state  \\\n",
       "0               US          47.449107         -122.308841             WA   \n",
       "1               US          35.111060         -106.276551             NM   \n",
       "2               US          35.127163         -106.566681             NM   \n",
       "3               US          35.149726         -106.711425             NM   \n",
       "4               US          35.208659         -106.601008             NM   \n",
       "\n",
       "   owner.id  rate.daily vehicle.make vehicle.model vehicle.type  vehicle.year  \n",
       "0  12847615         135        Tesla       Model X          suv          2019  \n",
       "1  15621242         190        Tesla       Model X          suv          2018  \n",
       "2  10199256          35       Toyota         Prius          car          2012  \n",
       "3   9365496          75         Ford       Mustang          car          2018  \n",
       "4   3553565          47     Chrysler       Sebring          car          2010  "
      ]
     },
     "execution_count": 6,
     "metadata": {},
     "output_type": "execute_result"
    }
   ],
   "source": [
    "df2 = pd.read_csv('CarRentalData.csv')\n",
    "df2.head()"
   ]
  },
  {
   "cell_type": "code",
   "execution_count": 7,
   "id": "8d82d450",
   "metadata": {},
   "outputs": [
    {
     "name": "stdout",
     "output_type": "stream",
     "text": [
      "<class 'pandas.core.frame.DataFrame'>\n",
      "RangeIndex: 5851 entries, 0 to 5850\n",
      "Data columns (total 15 columns):\n",
      " #   Column              Non-Null Count  Dtype  \n",
      "---  ------              --------------  -----  \n",
      " 0   fuelType            5776 non-null   object \n",
      " 1   rating              5350 non-null   float64\n",
      " 2   renterTripsTaken    5851 non-null   int64  \n",
      " 3   reviewCount         5851 non-null   int64  \n",
      " 4   location.city       5851 non-null   object \n",
      " 5   location.country    5851 non-null   object \n",
      " 6   location.latitude   5851 non-null   float64\n",
      " 7   location.longitude  5851 non-null   float64\n",
      " 8   location.state      5851 non-null   object \n",
      " 9   owner.id            5851 non-null   int64  \n",
      " 10  rate.daily          5851 non-null   int64  \n",
      " 11  vehicle.make        5851 non-null   object \n",
      " 12  vehicle.model       5851 non-null   object \n",
      " 13  vehicle.type        5851 non-null   object \n",
      " 14  vehicle.year        5851 non-null   int64  \n",
      "dtypes: float64(3), int64(5), object(7)\n",
      "memory usage: 685.8+ KB\n"
     ]
    }
   ],
   "source": [
    "df2.info()"
   ]
  },
  {
   "cell_type": "code",
   "execution_count": 8,
   "id": "aa6c797f",
   "metadata": {},
   "outputs": [
    {
     "data": {
      "text/plain": [
       "fuelType               75\n",
       "rating                501\n",
       "renterTripsTaken        0\n",
       "reviewCount             0\n",
       "location.city           0\n",
       "location.country        0\n",
       "location.latitude       0\n",
       "location.longitude      0\n",
       "location.state          0\n",
       "owner.id                0\n",
       "rate.daily              0\n",
       "vehicle.make            0\n",
       "vehicle.model           0\n",
       "vehicle.type            0\n",
       "vehicle.year            0\n",
       "dtype: int64"
      ]
     },
     "execution_count": 8,
     "metadata": {},
     "output_type": "execute_result"
    }
   ],
   "source": [
    "df2.isna().sum()"
   ]
  },
  {
   "cell_type": "code",
   "execution_count": 9,
   "id": "ead46968",
   "metadata": {},
   "outputs": [
    {
     "name": "stdout",
     "output_type": "stream",
     "text": [
      "panjang dataset 38531 baris\n"
     ]
    }
   ],
   "source": [
    "print(f'panjang dataset {len(df)} baris')"
   ]
  },
  {
   "cell_type": "markdown",
   "id": "c5981b18",
   "metadata": {},
   "source": [
    "<h3> Data Cleaning </h3>"
   ]
  },
  {
   "cell_type": "code",
   "execution_count": 10,
   "id": "7f2a645d",
   "metadata": {},
   "outputs": [],
   "source": [
    "dataset_mn = df.copy()\n",
    "dataset_md = df2.copy()\n",
    "dataset_ms = df.copy()"
   ]
  },
  {
   "cell_type": "code",
   "execution_count": 11,
   "id": "09f39c90",
   "metadata": {},
   "outputs": [],
   "source": [
    "imputer_mean = SimpleImputer(strategy='mean')\n",
    "imputer_median = SimpleImputer(strategy='median')\n",
    "imputer_modus = SimpleImputer(strategy='most_frequent')"
   ]
  },
  {
   "cell_type": "markdown",
   "id": "bb226923",
   "metadata": {},
   "source": [
    "<h3> MODUS </h3>"
   ]
  },
  {
   "cell_type": "code",
   "execution_count": 12,
   "id": "9f326211",
   "metadata": {},
   "outputs": [
    {
     "data": {
      "text/plain": [
       "manufacturer_name    0\n",
       "model_name           0\n",
       "transmission         0\n",
       "color                0\n",
       "odometer_value       0\n",
       "year_produced        0\n",
       "engine_fuel          0\n",
       "engine_has_gas       0\n",
       "engine_type          0\n",
       "engine_capacity      0\n",
       "body_type            0\n",
       "has_warranty         0\n",
       "state                0\n",
       "drivetrain           0\n",
       "price_usd            0\n",
       "is_exchangeable      0\n",
       "location_region      0\n",
       "number_of_photos     0\n",
       "up_counter           0\n",
       "feature_0            0\n",
       "feature_1            0\n",
       "feature_2            0\n",
       "feature_3            0\n",
       "feature_4            0\n",
       "feature_5            0\n",
       "feature_6            0\n",
       "feature_7            0\n",
       "feature_8            0\n",
       "feature_9            0\n",
       "duration_listed      0\n",
       "dtype: int64"
      ]
     },
     "execution_count": 12,
     "metadata": {},
     "output_type": "execute_result"
    }
   ],
   "source": [
    "dataset_mn['engine_capacity'] = imputer_mean.fit_transform(dataset_mn[['engine_capacity']])\n",
    "\n",
    "dataset_mn.isna().sum()"
   ]
  },
  {
   "cell_type": "markdown",
   "id": "48622d9c",
   "metadata": {},
   "source": [
    "<h3> median </h3>"
   ]
  },
  {
   "cell_type": "code",
   "execution_count": 13,
   "id": "edf70598",
   "metadata": {},
   "outputs": [
    {
     "data": {
      "text/plain": [
       "fuelType              75\n",
       "rating                 0\n",
       "renterTripsTaken       0\n",
       "reviewCount            0\n",
       "location.city          0\n",
       "location.country       0\n",
       "location.latitude      0\n",
       "location.longitude     0\n",
       "location.state         0\n",
       "owner.id               0\n",
       "rate.daily             0\n",
       "vehicle.make           0\n",
       "vehicle.model          0\n",
       "vehicle.type           0\n",
       "vehicle.year           0\n",
       "dtype: int64"
      ]
     },
     "execution_count": 13,
     "metadata": {},
     "output_type": "execute_result"
    }
   ],
   "source": [
    "dataset_md['rating'] = imputer_median.fit_transform(dataset_md[['rating']])\n",
    "\n",
    "dataset_md.isna().sum()"
   ]
  },
  {
   "cell_type": "code",
   "execution_count": 14,
   "id": "d6c96cd4",
   "metadata": {},
   "outputs": [
    {
     "data": {
      "text/plain": [
       "fuelType              0\n",
       "rating                0\n",
       "renterTripsTaken      0\n",
       "reviewCount           0\n",
       "location.city         0\n",
       "location.country      0\n",
       "location.latitude     0\n",
       "location.longitude    0\n",
       "location.state        0\n",
       "owner.id              0\n",
       "rate.daily            0\n",
       "vehicle.make          0\n",
       "vehicle.model         0\n",
       "vehicle.type          0\n",
       "vehicle.year          0\n",
       "dtype: int64"
      ]
     },
     "execution_count": 14,
     "metadata": {},
     "output_type": "execute_result"
    }
   ],
   "source": [
    "dataset_md.dropna(inplace=True)\n",
    "dataset_md.isna().sum()"
   ]
  },
  {
   "cell_type": "code",
   "execution_count": 15,
   "id": "c736e440",
   "metadata": {},
   "outputs": [
    {
     "data": {
      "text/plain": [
       "38531"
      ]
     },
     "execution_count": 15,
     "metadata": {},
     "output_type": "execute_result"
    }
   ],
   "source": [
    "len(dataset_mn)"
   ]
  },
  {
   "cell_type": "markdown",
   "id": "bbe04767",
   "metadata": {},
   "source": [
    "<h3> data duplikat </h3>"
   ]
  },
  {
   "cell_type": "code",
   "execution_count": 16,
   "id": "a6d4dbf2",
   "metadata": {},
   "outputs": [
    {
     "data": {
      "text/plain": [
       "40"
      ]
     },
     "execution_count": 16,
     "metadata": {},
     "output_type": "execute_result"
    }
   ],
   "source": [
    "dataset_duplicate = df.copy()\n",
    "dataset_duplicate.duplicated().sum()"
   ]
  },
  {
   "cell_type": "code",
   "execution_count": 17,
   "id": "e30860d4",
   "metadata": {},
   "outputs": [
    {
     "data": {
      "text/plain": [
       "0"
      ]
     },
     "execution_count": 17,
     "metadata": {},
     "output_type": "execute_result"
    }
   ],
   "source": [
    "dataset_duplicate.drop_duplicates(inplace=True)\n",
    "dataset_duplicate.duplicated().sum()"
   ]
  },
  {
   "cell_type": "markdown",
   "id": "9e4c7195",
   "metadata": {},
   "source": [
    "<h3> K-MEANS </h3>"
   ]
  },
  {
   "cell_type": "code",
   "execution_count": 18,
   "id": "01c29b94",
   "metadata": {},
   "outputs": [
    {
     "data": {
      "text/html": [
       "<div>\n",
       "<style scoped>\n",
       "    .dataframe tbody tr th:only-of-type {\n",
       "        vertical-align: middle;\n",
       "    }\n",
       "\n",
       "    .dataframe tbody tr th {\n",
       "        vertical-align: top;\n",
       "    }\n",
       "\n",
       "    .dataframe thead th {\n",
       "        text-align: right;\n",
       "    }\n",
       "</style>\n",
       "<table border=\"1\" class=\"dataframe\">\n",
       "  <thead>\n",
       "    <tr style=\"text-align: right;\">\n",
       "      <th></th>\n",
       "      <th>fuelType</th>\n",
       "      <th>rating</th>\n",
       "      <th>renterTripsTaken</th>\n",
       "      <th>reviewCount</th>\n",
       "      <th>location.city</th>\n",
       "      <th>location.country</th>\n",
       "      <th>location.latitude</th>\n",
       "      <th>location.longitude</th>\n",
       "      <th>location.state</th>\n",
       "      <th>owner.id</th>\n",
       "      <th>rate.daily</th>\n",
       "      <th>vehicle.make</th>\n",
       "      <th>vehicle.model</th>\n",
       "      <th>vehicle.type</th>\n",
       "      <th>vehicle.year</th>\n",
       "    </tr>\n",
       "  </thead>\n",
       "  <tbody>\n",
       "    <tr>\n",
       "      <th>0</th>\n",
       "      <td>ELECTRIC</td>\n",
       "      <td>5.00</td>\n",
       "      <td>13</td>\n",
       "      <td>12</td>\n",
       "      <td>Seattle</td>\n",
       "      <td>US</td>\n",
       "      <td>47.449107</td>\n",
       "      <td>-122.308841</td>\n",
       "      <td>WA</td>\n",
       "      <td>12847615</td>\n",
       "      <td>135</td>\n",
       "      <td>Tesla</td>\n",
       "      <td>Model X</td>\n",
       "      <td>suv</td>\n",
       "      <td>2019</td>\n",
       "    </tr>\n",
       "    <tr>\n",
       "      <th>1</th>\n",
       "      <td>ELECTRIC</td>\n",
       "      <td>5.00</td>\n",
       "      <td>2</td>\n",
       "      <td>1</td>\n",
       "      <td>Tijeras</td>\n",
       "      <td>US</td>\n",
       "      <td>35.111060</td>\n",
       "      <td>-106.276551</td>\n",
       "      <td>NM</td>\n",
       "      <td>15621242</td>\n",
       "      <td>190</td>\n",
       "      <td>Tesla</td>\n",
       "      <td>Model X</td>\n",
       "      <td>suv</td>\n",
       "      <td>2018</td>\n",
       "    </tr>\n",
       "    <tr>\n",
       "      <th>2</th>\n",
       "      <td>HYBRID</td>\n",
       "      <td>4.92</td>\n",
       "      <td>28</td>\n",
       "      <td>24</td>\n",
       "      <td>Albuquerque</td>\n",
       "      <td>US</td>\n",
       "      <td>35.127163</td>\n",
       "      <td>-106.566681</td>\n",
       "      <td>NM</td>\n",
       "      <td>10199256</td>\n",
       "      <td>35</td>\n",
       "      <td>Toyota</td>\n",
       "      <td>Prius</td>\n",
       "      <td>car</td>\n",
       "      <td>2012</td>\n",
       "    </tr>\n",
       "    <tr>\n",
       "      <th>3</th>\n",
       "      <td>GASOLINE</td>\n",
       "      <td>5.00</td>\n",
       "      <td>21</td>\n",
       "      <td>20</td>\n",
       "      <td>Albuquerque</td>\n",
       "      <td>US</td>\n",
       "      <td>35.149726</td>\n",
       "      <td>-106.711425</td>\n",
       "      <td>NM</td>\n",
       "      <td>9365496</td>\n",
       "      <td>75</td>\n",
       "      <td>Ford</td>\n",
       "      <td>Mustang</td>\n",
       "      <td>car</td>\n",
       "      <td>2018</td>\n",
       "    </tr>\n",
       "    <tr>\n",
       "      <th>4</th>\n",
       "      <td>GASOLINE</td>\n",
       "      <td>5.00</td>\n",
       "      <td>3</td>\n",
       "      <td>1</td>\n",
       "      <td>Albuquerque</td>\n",
       "      <td>US</td>\n",
       "      <td>35.208659</td>\n",
       "      <td>-106.601008</td>\n",
       "      <td>NM</td>\n",
       "      <td>3553565</td>\n",
       "      <td>47</td>\n",
       "      <td>Chrysler</td>\n",
       "      <td>Sebring</td>\n",
       "      <td>car</td>\n",
       "      <td>2010</td>\n",
       "    </tr>\n",
       "    <tr>\n",
       "      <th>5</th>\n",
       "      <td>GASOLINE</td>\n",
       "      <td>5.00</td>\n",
       "      <td>13</td>\n",
       "      <td>12</td>\n",
       "      <td>Albuquerque</td>\n",
       "      <td>US</td>\n",
       "      <td>35.068834</td>\n",
       "      <td>-106.576111</td>\n",
       "      <td>NM</td>\n",
       "      <td>7815747</td>\n",
       "      <td>58</td>\n",
       "      <td>Mercedes-Benz</td>\n",
       "      <td>GL-Class</td>\n",
       "      <td>suv</td>\n",
       "      <td>2012</td>\n",
       "    </tr>\n",
       "    <tr>\n",
       "      <th>6</th>\n",
       "      <td>GASOLINE</td>\n",
       "      <td>4.42</td>\n",
       "      <td>13</td>\n",
       "      <td>12</td>\n",
       "      <td>Albuquerque</td>\n",
       "      <td>US</td>\n",
       "      <td>35.045552</td>\n",
       "      <td>-106.633815</td>\n",
       "      <td>NM</td>\n",
       "      <td>3112016</td>\n",
       "      <td>42</td>\n",
       "      <td>GMC</td>\n",
       "      <td>Yukon XL</td>\n",
       "      <td>suv</td>\n",
       "      <td>2005</td>\n",
       "    </tr>\n",
       "  </tbody>\n",
       "</table>\n",
       "</div>"
      ],
      "text/plain": [
       "   fuelType  rating  renterTripsTaken  reviewCount location.city  \\\n",
       "0  ELECTRIC    5.00                13           12       Seattle   \n",
       "1  ELECTRIC    5.00                 2            1       Tijeras   \n",
       "2    HYBRID    4.92                28           24   Albuquerque   \n",
       "3  GASOLINE    5.00                21           20   Albuquerque   \n",
       "4  GASOLINE    5.00                 3            1   Albuquerque   \n",
       "5  GASOLINE    5.00                13           12   Albuquerque   \n",
       "6  GASOLINE    4.42                13           12   Albuquerque   \n",
       "\n",
       "  location.country  location.latitude  location.longitude location.state  \\\n",
       "0               US          47.449107         -122.308841             WA   \n",
       "1               US          35.111060         -106.276551             NM   \n",
       "2               US          35.127163         -106.566681             NM   \n",
       "3               US          35.149726         -106.711425             NM   \n",
       "4               US          35.208659         -106.601008             NM   \n",
       "5               US          35.068834         -106.576111             NM   \n",
       "6               US          35.045552         -106.633815             NM   \n",
       "\n",
       "   owner.id  rate.daily   vehicle.make vehicle.model vehicle.type  \\\n",
       "0  12847615         135          Tesla       Model X          suv   \n",
       "1  15621242         190          Tesla       Model X          suv   \n",
       "2  10199256          35         Toyota         Prius          car   \n",
       "3   9365496          75           Ford       Mustang          car   \n",
       "4   3553565          47       Chrysler       Sebring          car   \n",
       "5   7815747          58  Mercedes-Benz      GL-Class          suv   \n",
       "6   3112016          42            GMC      Yukon XL          suv   \n",
       "\n",
       "   vehicle.year  \n",
       "0          2019  \n",
       "1          2018  \n",
       "2          2012  \n",
       "3          2018  \n",
       "4          2010  \n",
       "5          2012  \n",
       "6          2005  "
      ]
     },
     "execution_count": 18,
     "metadata": {},
     "output_type": "execute_result"
    }
   ],
   "source": [
    "dataset_md.head(7)"
   ]
  },
  {
   "cell_type": "code",
   "execution_count": 19,
   "id": "be69b4df",
   "metadata": {},
   "outputs": [],
   "source": [
    "model = KMeans(n_clusters=4)"
   ]
  },
  {
   "cell_type": "code",
   "execution_count": 20,
   "id": "7a9eb1e6",
   "metadata": {},
   "outputs": [],
   "source": [
    "point = dataset_md[['location.latitude','location.longitude']]"
   ]
  },
  {
   "cell_type": "code",
   "execution_count": 21,
   "id": "df3d05e3",
   "metadata": {},
   "outputs": [
    {
     "data": {
      "text/html": [
       "<style>#sk-container-id-1 {color: black;background-color: white;}#sk-container-id-1 pre{padding: 0;}#sk-container-id-1 div.sk-toggleable {background-color: white;}#sk-container-id-1 label.sk-toggleable__label {cursor: pointer;display: block;width: 100%;margin-bottom: 0;padding: 0.3em;box-sizing: border-box;text-align: center;}#sk-container-id-1 label.sk-toggleable__label-arrow:before {content: \"▸\";float: left;margin-right: 0.25em;color: #696969;}#sk-container-id-1 label.sk-toggleable__label-arrow:hover:before {color: black;}#sk-container-id-1 div.sk-estimator:hover label.sk-toggleable__label-arrow:before {color: black;}#sk-container-id-1 div.sk-toggleable__content {max-height: 0;max-width: 0;overflow: hidden;text-align: left;background-color: #f0f8ff;}#sk-container-id-1 div.sk-toggleable__content pre {margin: 0.2em;color: black;border-radius: 0.25em;background-color: #f0f8ff;}#sk-container-id-1 input.sk-toggleable__control:checked~div.sk-toggleable__content {max-height: 200px;max-width: 100%;overflow: auto;}#sk-container-id-1 input.sk-toggleable__control:checked~label.sk-toggleable__label-arrow:before {content: \"▾\";}#sk-container-id-1 div.sk-estimator input.sk-toggleable__control:checked~label.sk-toggleable__label {background-color: #d4ebff;}#sk-container-id-1 div.sk-label input.sk-toggleable__control:checked~label.sk-toggleable__label {background-color: #d4ebff;}#sk-container-id-1 input.sk-hidden--visually {border: 0;clip: rect(1px 1px 1px 1px);clip: rect(1px, 1px, 1px, 1px);height: 1px;margin: -1px;overflow: hidden;padding: 0;position: absolute;width: 1px;}#sk-container-id-1 div.sk-estimator {font-family: monospace;background-color: #f0f8ff;border: 1px dotted black;border-radius: 0.25em;box-sizing: border-box;margin-bottom: 0.5em;}#sk-container-id-1 div.sk-estimator:hover {background-color: #d4ebff;}#sk-container-id-1 div.sk-parallel-item::after {content: \"\";width: 100%;border-bottom: 1px solid gray;flex-grow: 1;}#sk-container-id-1 div.sk-label:hover label.sk-toggleable__label {background-color: #d4ebff;}#sk-container-id-1 div.sk-serial::before {content: \"\";position: absolute;border-left: 1px solid gray;box-sizing: border-box;top: 0;bottom: 0;left: 50%;z-index: 0;}#sk-container-id-1 div.sk-serial {display: flex;flex-direction: column;align-items: center;background-color: white;padding-right: 0.2em;padding-left: 0.2em;position: relative;}#sk-container-id-1 div.sk-item {position: relative;z-index: 1;}#sk-container-id-1 div.sk-parallel {display: flex;align-items: stretch;justify-content: center;background-color: white;position: relative;}#sk-container-id-1 div.sk-item::before, #sk-container-id-1 div.sk-parallel-item::before {content: \"\";position: absolute;border-left: 1px solid gray;box-sizing: border-box;top: 0;bottom: 0;left: 50%;z-index: -1;}#sk-container-id-1 div.sk-parallel-item {display: flex;flex-direction: column;z-index: 1;position: relative;background-color: white;}#sk-container-id-1 div.sk-parallel-item:first-child::after {align-self: flex-end;width: 50%;}#sk-container-id-1 div.sk-parallel-item:last-child::after {align-self: flex-start;width: 50%;}#sk-container-id-1 div.sk-parallel-item:only-child::after {width: 0;}#sk-container-id-1 div.sk-dashed-wrapped {border: 1px dashed gray;margin: 0 0.4em 0.5em 0.4em;box-sizing: border-box;padding-bottom: 0.4em;background-color: white;}#sk-container-id-1 div.sk-label label {font-family: monospace;font-weight: bold;display: inline-block;line-height: 1.2em;}#sk-container-id-1 div.sk-label-container {text-align: center;}#sk-container-id-1 div.sk-container {/* jupyter's `normalize.less` sets `[hidden] { display: none; }` but bootstrap.min.css set `[hidden] { display: none !important; }` so we also need the `!important` here to be able to override the default hidden behavior on the sphinx rendered scikit-learn.org. See: https://github.com/scikit-learn/scikit-learn/issues/21755 */display: inline-block !important;position: relative;}#sk-container-id-1 div.sk-text-repr-fallback {display: none;}</style><div id=\"sk-container-id-1\" class=\"sk-top-container\"><div class=\"sk-text-repr-fallback\"><pre>KMeans(n_clusters=4)</pre><b>In a Jupyter environment, please rerun this cell to show the HTML representation or trust the notebook. <br />On GitHub, the HTML representation is unable to render, please try loading this page with nbviewer.org.</b></div><div class=\"sk-container\" hidden><div class=\"sk-item\"><div class=\"sk-estimator sk-toggleable\"><input class=\"sk-toggleable__control sk-hidden--visually\" id=\"sk-estimator-id-1\" type=\"checkbox\" checked><label for=\"sk-estimator-id-1\" class=\"sk-toggleable__label sk-toggleable__label-arrow\">KMeans</label><div class=\"sk-toggleable__content\"><pre>KMeans(n_clusters=4)</pre></div></div></div></div></div>"
      ],
      "text/plain": [
       "KMeans(n_clusters=4)"
      ]
     },
     "execution_count": 21,
     "metadata": {},
     "output_type": "execute_result"
    }
   ],
   "source": [
    "model.fit(point)"
   ]
  },
  {
   "cell_type": "code",
   "execution_count": 22,
   "id": "4037fe67",
   "metadata": {},
   "outputs": [],
   "source": [
    "label = model.labels_"
   ]
  },
  {
   "cell_type": "code",
   "execution_count": 23,
   "id": "d7b724c4",
   "metadata": {},
   "outputs": [
    {
     "data": {
      "text/plain": [
       "array([0, 3, 3, ..., 2, 2, 2])"
      ]
     },
     "execution_count": 23,
     "metadata": {},
     "output_type": "execute_result"
    }
   ],
   "source": [
    "label"
   ]
  },
  {
   "cell_type": "code",
   "execution_count": 24,
   "id": "ecb0edd8",
   "metadata": {},
   "outputs": [],
   "source": [
    "x = point['location.latitude']\n",
    "y = point['location.longitude']"
   ]
  },
  {
   "cell_type": "code",
   "execution_count": 25,
   "id": "04da00c7",
   "metadata": {},
   "outputs": [],
   "source": [
    "centroid = model.cluster_centers_"
   ]
  },
  {
   "cell_type": "code",
   "execution_count": 26,
   "id": "0d4a22e7",
   "metadata": {},
   "outputs": [
    {
     "data": {
      "text/plain": [
       "array([[  37.55508321, -117.68649739],\n",
       "       [  34.82782076,  -80.70839035],\n",
       "       [  28.89292238, -156.30497168],\n",
       "       [  35.45207017,  -97.79750998]])"
      ]
     },
     "execution_count": 26,
     "metadata": {},
     "output_type": "execute_result"
    }
   ],
   "source": [
    "centroid"
   ]
  },
  {
   "cell_type": "code",
   "execution_count": 27,
   "id": "aea2c2ee",
   "metadata": {},
   "outputs": [],
   "source": [
    "centroid_x = centroid[:,0]\n",
    "centroid_y = centroid[:,1]"
   ]
  },
  {
   "cell_type": "markdown",
   "id": "1db4a7d6",
   "metadata": {},
   "source": [
    "<h2> Visualisasi </h2>"
   ]
  },
  {
   "cell_type": "code",
   "execution_count": 29,
   "id": "63df286d",
   "metadata": {},
   "outputs": [
    {
     "data": {
      "image/png": "[encoded data removed]",
      "text/plain": [
       "<Figure size 800x800 with 1 Axes>"
      ]
     },
     "metadata": {},
     "output_type": "display_data"
    }
   ],
   "source": [
    "plt.figure(figsize=(8,8))\n",
    "plt.scatter(x, y, alpha=0.5, c=label)\n",
    "plt.scatter(centroid_x, centroid_y, marker='D', s=50, label='centroid')\n",
    "plt.xlabel('location.latitude')\n",
    "plt.ylabel('location.longitude')\n",
    "plt.legend()\n",
    "plt.show()"
   ]
  },
  {
   "cell_type": "code",
   "execution_count": 30,
   "id": "9389fc92",
   "metadata": {},
   "outputs": [],
   "source": [
    "cluster_range = range(1,8)\n",
    "inertias = []\n",
    "for k in cluster_range:\n",
    "    model = KMeans(n_clusters=k)\n",
    "    model.fit(point)\n",
    "    inertias.append(model.inertia_)"
   ]
  },
  {
   "cell_type": "markdown",
   "id": "c790e0c7",
   "metadata": {},
   "source": [
    "<h2> visualisasi </h2>"
   ]
  },
  {
   "cell_type": "code",
   "execution_count": 32,
   "id": "a395ad65",
   "metadata": {},
   "outputs": [
    {
     "data": {
      "image/png": "[encoded data removed]",
      "text/plain": [
       "<Figure size 800x800 with 1 Axes>"
      ]
     },
     "metadata": {},
     "output_type": "display_data"
    }
   ],
   "source": [
    "plt.figure(figsize=(8,8))\n",
    "plt.plot(cluster_range, inertias, '-o')\n",
    "plt.xlabel('Cluster ')\n",
    "plt.ylabel('Inertia/Sum Square Error')\n",
    "plt.xticks(cluster_range)\n",
    "plt.show()"
   ]
  }
 ],
 "metadata": {
  "kernelspec": {
   "display_name": "Python 3 (ipykernel)",
   "language": "python",
   "name": "python3"
  },
  "language_info": {
   "codemirror_mode": {
    "name": "ipython",
    "version": 3
   },
   "file_extension": ".py",
   "mimetype": "text/x-python",
   "name": "python",
   "nbconvert_exporter": "python",
   "pygments_lexer": "ipython3",
   "version": "3.10.7"
  }
 },
 "nbformat": 4,
 "nbformat_minor": 5
}

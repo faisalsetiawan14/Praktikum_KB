{
 "cells": [
  {
   "cell_type": "markdown",
   "id": "a19fe3bf",
   "metadata": {},
   "source": [
    "<h4> POSTTEST 7 KB </h4>\n",
    "<h4> Muhammad Faisal Setiawan </h4>"
   ]
  },
  {
   "cell_type": "markdown",
   "id": "0013e8c0",
   "metadata": {},
   "source": [
    "<h2> input library yang digunakan pada posttest kali ini </h2>"
   ]
  },
  {
   "cell_type": "code",
   "execution_count": 20,
   "id": "0ff0f2ff",
   "metadata": {},
   "outputs": [],
   "source": [
    "import tensorflow as tf\n",
    "import numpy as np"
   ]
  },
  {
   "cell_type": "markdown",
   "id": "60a09ffa",
   "metadata": {},
   "source": [
    "<h2> membuat random tensor shape 5.5 </h2>"
   ]
  },
  {
   "cell_type": "code",
   "execution_count": 21,
   "id": "ce8e76a8",
   "metadata": {},
   "outputs": [
    {
     "data": {
      "text/plain": [
       "array([[-0.28433853,  0.8922832 ,  0.8983451 ,  0.7163981 ,  0.34969485],\n",
       "       [-0.37960768,  0.01531979,  0.27423722, -2.214901  , -0.08514621],\n",
       "       [ 1.0113182 ,  0.6616626 ,  1.383323  , -0.40465203,  0.86142987],\n",
       "       [-0.12589967, -1.418615  ,  2.0295074 ,  0.15304402,  0.13658497],\n",
       "       [-0.49787143,  0.38847125, -0.4244715 ,  0.46214256, -0.5444318 ]],\n",
       "      dtype=float32)"
      ]
     },
     "execution_count": 21,
     "metadata": {},
     "output_type": "execute_result"
    }
   ],
   "source": [
    "random_tensor = tf.random.normal([5, 5], mean=0, stddev=1, seed=1).numpy()\n",
    "random_tensor"
   ]
  },
  {
   "cell_type": "markdown",
   "id": "2b527b10",
   "metadata": {},
   "source": [
    "<h2> membuat variable prima tensor shape 5.5 </h2>"
   ]
  },
  {
   "cell_type": "code",
   "execution_count": 22,
   "id": "99e4feaa",
   "metadata": {},
   "outputs": [
    {
     "data": {
      "text/plain": [
       "<tf.Tensor: shape=(5, 5), dtype=float32, numpy=\n",
       "array([[  2.,   3.,   5.,   7.,  11.],\n",
       "       [ 13.,  17.,  19.,  23.,  29.],\n",
       "       [ 31.,  37.,  41.,  43.,  47.],\n",
       "       [ 53.,  59.,  61.,  71.,  73.],\n",
       "       [ 79.,  83.,  89.,  97., 101.]], dtype=float32)>"
      ]
     },
     "execution_count": 22,
     "metadata": {},
     "output_type": "execute_result"
    }
   ],
   "source": [
    "prima_tensor = tf.constant([2, 3, 5, 7, 11, 13, 17, 19, 23, 29, 31, 37, 41, 43, 47, 53, 59, 61, 71, 73, 79, 83, 89, 97, 101], shape=[5, 5], dtype=tf.float32)\n",
    "prima_tensor"
   ]
  },
  {
   "cell_type": "markdown",
   "id": "a8a97b08",
   "metadata": {},
   "source": [
    "<h2> Aritmatika pertambahan (add) </h2>"
   ]
  },
  {
   "cell_type": "code",
   "execution_count": 23,
   "id": "6e27d2e5",
   "metadata": {},
   "outputs": [
    {
     "name": "stdout",
     "output_type": "stream",
     "text": [
      "Hasil  pertambahan = [[  1.7156615   3.8922832   5.898345    7.7163982  11.349695 ]\n",
      " [ 12.620392   17.01532    19.274237   20.785099   28.914854 ]\n",
      " [ 32.01132    37.661663   42.383324   42.59535    47.86143  ]\n",
      " [ 52.8741     57.581387   63.029507   71.153046   73.13658  ]\n",
      " [ 78.50213    83.38847    88.57553    97.46214   100.45557  ]]\n"
     ]
    }
   ],
   "source": [
    "print(\"Hasil  pertambahan =\",tf.add(random_tensor,prima_tensor).numpy())"
   ]
  },
  {
   "cell_type": "markdown",
   "id": "e19434ac",
   "metadata": {},
   "source": [
    "<h2> Aritmatika pengurangan (subtract) </h2>"
   ]
  },
  {
   "cell_type": "code",
   "execution_count": 24,
   "id": "8ac3c579",
   "metadata": {},
   "outputs": [
    {
     "name": "stdout",
     "output_type": "stream",
     "text": [
      "Hasil pengurangan = [[  -2.2843385   -2.1077168   -4.101655    -6.2836018  -10.650305 ]\n",
      " [ -13.379608   -16.98468    -18.725763   -25.214901   -29.085146 ]\n",
      " [ -29.988682   -36.338337   -39.616676   -43.40465    -46.13857  ]\n",
      " [ -53.1259     -60.418613   -58.970493   -70.846954   -72.86342  ]\n",
      " [ -79.49787    -82.61153    -89.42447    -96.53786   -101.54443  ]]\n"
     ]
    }
   ],
   "source": [
    "print(\"Hasil pengurangan =\",tf.subtract(random_tensor, prima_tensor).numpy())"
   ]
  },
  {
   "cell_type": "markdown",
   "id": "6600b64c",
   "metadata": {},
   "source": [
    "<h2> Aritmatika perkalian (multiply) </h2>"
   ]
  },
  {
   "cell_type": "code",
   "execution_count": 25,
   "id": "b637e87a",
   "metadata": {},
   "outputs": [
    {
     "name": "stdout",
     "output_type": "stream",
     "text": [
      "hasil perkalian = [[ -0.56867707   2.6768496    4.4917254    5.0147867    3.8466434 ]\n",
      " [ -4.9349       0.2604365    5.210507   -50.942722    -2.4692402 ]\n",
      " [ 31.350864    24.481516    56.71624    -17.400038    40.487206  ]\n",
      " [ -6.672683   -83.69828    123.79995     10.866125     9.970702  ]\n",
      " [-39.331844    32.243114   -37.77796     44.827827   -54.987614  ]]\n"
     ]
    }
   ],
   "source": [
    "print(\"hasil perkalian =\",tf.multiply(random_tensor, prima_tensor).numpy())"
   ]
  },
  {
   "cell_type": "markdown",
   "id": "6b0a619e",
   "metadata": {},
   "source": [
    "<h2> Aritmatika pembagian (divide) </h2>"
   ]
  },
  {
   "cell_type": "code",
   "execution_count": 26,
   "id": "ea132db6",
   "metadata": {},
   "outputs": [
    {
     "name": "stdout",
     "output_type": "stream",
     "text": [
      "hasil pembagian = [[-0.14216927  0.29742774  0.17966902  0.10234259  0.03179044]\n",
      " [-0.02920059  0.00090116  0.01443354 -0.09630004 -0.00293608]\n",
      " [ 0.03262317  0.01788277  0.03373959 -0.00941051  0.0183283 ]\n",
      " [-0.00237547 -0.02404432  0.03327061  0.00215555  0.00187103]\n",
      " [-0.00630217  0.00468038 -0.00476934  0.00476436 -0.00539041]]\n"
     ]
    }
   ],
   "source": [
    "print(\"hasil pembagian =\",tf.divide (random_tensor, prima_tensor).numpy())"
   ]
  },
  {
   "cell_type": "markdown",
   "id": "10b3b4ac",
   "metadata": {},
   "source": [
    "<h2> Aritmatika logaritma (math.log) </h2>"
   ]
  },
  {
   "cell_type": "code",
   "execution_count": 27,
   "id": "31b3e5e5",
   "metadata": {},
   "outputs": [
    {
     "name": "stdout",
     "output_type": "stream",
     "text": [
      "hasil logaritma math.log = [[        nan -0.1139717  -0.10720097 -0.33351925 -1.0506945 ]\n",
      " [        nan -4.1786094  -1.2937618          nan         nan]\n",
      " [ 0.01125463 -0.41299957  0.32448855         nan -0.14916162]\n",
      " [        nan         nan  0.7077931  -1.8770298  -1.9908084 ]\n",
      " [        nan -0.94553614         nan -0.7718819          nan]]\n"
     ]
    }
   ],
   "source": [
    "print(\"hasil logaritma math.log =\", tf.math.log (random_tensor, prima_tensor).numpy())"
   ]
  },
  {
   "cell_type": "markdown",
   "id": "80fad1fa",
   "metadata": {},
   "source": [
    "<h2> Aritmatika pangkat (pow) </h2>"
   ]
  },
  {
   "cell_type": "code",
   "execution_count": 28,
   "id": "d9bc5692",
   "metadata": {},
   "outputs": [
    {
     "name": "stdout",
     "output_type": "stream",
     "text": [
      "hasil pangkat= [[ 8.0848403e-02  7.1040851e-01  5.8508104e-01  9.6845858e-02\n",
      "   9.5627229e-06]\n",
      " [-3.3990286e-06  1.4102624e-31  2.1105780e-11 -8.7730216e+07\n",
      "  -9.4361422e-32]\n",
      " [ 1.4174985e+00  2.3096874e-07  5.9960731e+05 -1.2720790e-17\n",
      "   9.0227008e-04]\n",
      " [-0.0000000e+00 -9.1202765e+08  5.6341576e+18  0.0000000e+00\n",
      "   0.0000000e+00]\n",
      " [-1.1810252e-24  8.2563274e-35 -7.5599596e-34  3.0427649e-33\n",
      "  -2.1394018e-27]]\n"
     ]
    }
   ],
   "source": [
    "print(\"hasil pangkat=\", tf.pow(random_tensor, prima_tensor).numpy())"
   ]
  },
  {
   "cell_type": "markdown",
   "id": "f8e21f72",
   "metadata": {},
   "source": [
    "<h2> Nilai Maksimal random tensor </h2>"
   ]
  },
  {
   "cell_type": "code",
   "execution_count": 29,
   "id": "127eeafc",
   "metadata": {},
   "outputs": [
    {
     "name": "stdout",
     "output_type": "stream",
     "text": [
      "Nilai Max = [2 0 3 0 2]\n"
     ]
    }
   ],
   "source": [
    "print(\"Nilai Max =\", tf.argmax(random_tensor, axis=0).numpy())"
   ]
  },
  {
   "cell_type": "markdown",
   "id": "cf632318",
   "metadata": {},
   "source": [
    "<h2> Nilai Minimal random tensor </h2>"
   ]
  },
  {
   "cell_type": "code",
   "execution_count": 30,
   "id": "f5c24509",
   "metadata": {},
   "outputs": [
    {
     "name": "stdout",
     "output_type": "stream",
     "text": [
      "Nilai Min = [4 3 4 1 4]\n"
     ]
    }
   ],
   "source": [
    "print(\"Nilai Min =\",tf.argmin(random_tensor, axis=0).numpy())"
   ]
  },
  {
   "cell_type": "markdown",
   "id": "dba1a097",
   "metadata": {},
   "source": [
    "<h2> Penggabungan variable </h2>"
   ]
  },
  {
   "cell_type": "code",
   "execution_count": 31,
   "id": "b05de79e",
   "metadata": {},
   "outputs": [
    {
     "name": "stdout",
     "output_type": "stream",
     "text": [
      "size original data: (5, 5) (5, 5)\n",
      "size concatenated data: (10, 5)\n"
     ]
    }
   ],
   "source": [
    "random_tensor = tf.random.normal([5,5], mean=0, stddev=1, seed=1)\n",
    "prima_tensor = tf.constant([2, 3, 5, 7, 11, 13, 17, 19, 23, 29, 31, 37, 41, 43, 47, 53, 59, 61, 71, 73, 79, 83, 89, 97, 101], shape=[5, 5], dtype=tf.float32)\n",
    "print(\"size original data:\",random_tensor.shape,prima_tensor.shape)\n",
    "concated_tensor = tf.concat([random_tensor,prima_tensor],axis=0)\n",
    "print(\"size concatenated data:\",concated_tensor.shape)"
   ]
  },
  {
   "cell_type": "markdown",
   "id": "d23ad4ec",
   "metadata": {},
   "source": [
    "<h2> Desscending </h2>"
   ]
  },
  {
   "cell_type": "code",
   "execution_count": 32,
   "id": "0252841c",
   "metadata": {},
   "outputs": [
    {
     "name": "stdout",
     "output_type": "stream",
     "text": [
      "existing prime tensor data: [[  2.   3.   5.   7.  11.]\n",
      " [ 13.  17.  19.  23.  29.]\n",
      " [ 31.  37.  41.  43.  47.]\n",
      " [ 53.  59.  61.  71.  73.]\n",
      " [ 79.  83.  89.  97. 101.]]\n",
      "random tensor sorted by descending order: [[ 0.9124507   0.6950061   0.61860144 -0.3744468  -0.6192134 ]\n",
      " [ 0.6676718   0.4242158  -0.1350087  -0.17951003 -0.37561563]\n",
      " [ 1.4505777   1.1854254   0.34320396 -0.27241856 -0.31347093]\n",
      " [ 0.6069386  -0.29796734 -0.8780423  -1.4060947  -1.4172324 ]\n",
      " [ 0.37089893 -0.4037651  -0.7477049  -1.0725715  -1.1893758 ]]\n",
      "prime tensor sorted by descending order: [[ 11.   7.   5.   3.   2.]\n",
      " [ 29.  23.  19.  17.  13.]\n",
      " [ 47.  43.  41.  37.  31.]\n",
      " [ 73.  71.  61.  59.  53.]\n",
      " [101.  97.  89.  83.  79.]]\n"
     ]
    }
   ],
   "source": [
    "print(\"existing prime tensor data:\",prima_tensor.numpy())\n",
    "sorted_random = tf.sort(random_tensor, direction = \"DESCENDING\")\n",
    "print(\"random tensor sorted by descending order:\",sorted_random.numpy())\n",
    "sorted_prime = tf.sort(prima_tensor, direction = \"DESCENDING\")\n",
    "print(\"prime tensor sorted by descending order:\",sorted_prime.numpy())"
   ]
  }
 ],
 "metadata": {
  "kernelspec": {
   "display_name": "Python 3 (ipykernel)",
   "language": "python",
   "name": "python3"
  },
  "language_info": {
   "codemirror_mode": {
    "name": "ipython",
    "version": 3
   },
   "file_extension": ".py",
   "mimetype": "text/x-python",
   "name": "python",
   "nbconvert_exporter": "python",
   "pygments_lexer": "ipython3",
   "version": "3.10.7"
  }
 },
 "nbformat": 4,
 "nbformat_minor": 5
}
